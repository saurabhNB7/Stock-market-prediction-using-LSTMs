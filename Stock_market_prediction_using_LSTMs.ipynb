{
  "nbformat": 4,
  "nbformat_minor": 0,
  "metadata": {
    "colab": {
      "provenance": []
    },
    "kernelspec": {
      "name": "python3",
      "display_name": "Python 3"
    },
    "language_info": {
      "name": "python"
    }
  },
  "cells": [
    {
      "cell_type": "markdown",
      "source": [
        "###I am going to forecast share price of Tata Consultancy Services Limited (TCS). I am fetching data from yahoo finance module. I have performed various techniques on the data like feature engineering, exploratory data analysis, plotting and visualization of the model and results.\n"
      ],
      "metadata": {
        "id": "PyGtMxd6YrwX"
      }
    },
    {
      "cell_type": "markdown",
      "source": [
        "**Installing yahoo finance model and other important modules**"
      ],
      "metadata": {
        "id": "AGMbeWkzg3j-"
      }
    },
    {
      "cell_type": "code",
      "source": [
        "from pandas_datareader import data as web\n",
        "!pip install yfinance\n",
        "!pip install fix_yahoo_finance\n",
        "!pip install -U scikit-learn"
      ],
      "metadata": {
        "id": "pF2cndKUh5my"
      },
      "execution_count": null,
      "outputs": []
    },
    {
      "cell_type": "markdown",
      "source": [
        "**Importing necessary libraries**"
      ],
      "metadata": {
        "id": "C66t8ME3iDSw"
      }
    },
    {
      "cell_type": "code",
      "execution_count": null,
      "metadata": {
        "id": "VJmzISjHO55Q"
      },
      "outputs": [],
      "source": [
        "import pandas as pd\n",
        "import numpy as np\n",
        "from sklearn.preprocessing import MinMaxScaler\n",
        "import matplotlib\n",
        "import matplotlib.pyplot as plt\n",
        "import seaborn as sns\n",
        "%matplotlib inline\n",
        "matplotlib.style.use('ggplot')\n",
        "from keras.models import Sequential\n",
        "from keras.layers import Dense, LSTM, Dropout"
      ]
    },
    {
      "cell_type": "markdown",
      "source": [
        "**Loading the data and performing forecasting on Tata Consultancy Services Limited (TCS)\n",
        "(NSE: TCS.NS) for our model.**\n",
        " "
      ],
      "metadata": {
        "id": "Pss1MwidhYRm"
      }
    },
    {
      "cell_type": "code",
      "source": [
        "import yfinance as yf\n",
        "hist = yf.Ticker('APOLLOTYRE.NS')\n",
        "tcs=hist.history('15y', auto_adjust = True)"
      ],
      "metadata": {
        "id": "9-cepDscyL-I"
      },
      "execution_count": null,
      "outputs": []
    },
    {
      "cell_type": "markdown",
      "source": [
        "**Checking the data**"
      ],
      "metadata": {
        "id": "qGriejjpiYHR"
      }
    },
    {
      "cell_type": "code",
      "source": [
        "tcs.head()"
      ],
      "metadata": {
        "colab": {
          "base_uri": "https://localhost:8080/",
          "height": 237
        },
        "id": "E04XIuMJy2FF",
        "outputId": "de2bca11-515c-4626-c626-4c92dbce92e2"
      },
      "execution_count": null,
      "outputs": [
        {
          "output_type": "execute_result",
          "data": {
            "text/plain": [
              "                                Open       High        Low      Close  \\\n",
              "Date                                                                    \n",
              "2008-03-24 00:00:00+05:30  29.524531  30.773180  28.275879  30.168995   \n",
              "2008-03-25 00:00:00+05:30  30.612070  36.210857  30.007884  34.680252   \n",
              "2008-03-26 00:00:00+05:30  35.445555  35.928903  33.109370  33.592720   \n",
              "2008-03-27 00:00:00+05:30  33.069100  33.995520  32.626031  33.109379   \n",
              "2008-03-28 00:00:00+05:30  33.028815  34.035792  32.827420  33.834396   \n",
              "\n",
              "                            Volume  Dividends  Stock Splits  \n",
              "Date                                                         \n",
              "2008-03-24 00:00:00+05:30   929547        0.0           0.0  \n",
              "2008-03-25 00:00:00+05:30  1921674        0.0           0.0  \n",
              "2008-03-26 00:00:00+05:30   908599        0.0           0.0  \n",
              "2008-03-27 00:00:00+05:30   514967        0.0           0.0  \n",
              "2008-03-28 00:00:00+05:30   438240        0.0           0.0  "
            ],
            "text/html": [
              "\n",
              "  <div id=\"df-02456f03-6536-4b94-9e5d-9cd3453aff4a\">\n",
              "    <div class=\"colab-df-container\">\n",
              "      <div>\n",
              "<style scoped>\n",
              "    .dataframe tbody tr th:only-of-type {\n",
              "        vertical-align: middle;\n",
              "    }\n",
              "\n",
              "    .dataframe tbody tr th {\n",
              "        vertical-align: top;\n",
              "    }\n",
              "\n",
              "    .dataframe thead th {\n",
              "        text-align: right;\n",
              "    }\n",
              "</style>\n",
              "<table border=\"1\" class=\"dataframe\">\n",
              "  <thead>\n",
              "    <tr style=\"text-align: right;\">\n",
              "      <th></th>\n",
              "      <th>Open</th>\n",
              "      <th>High</th>\n",
              "      <th>Low</th>\n",
              "      <th>Close</th>\n",
              "      <th>Volume</th>\n",
              "      <th>Dividends</th>\n",
              "      <th>Stock Splits</th>\n",
              "    </tr>\n",
              "    <tr>\n",
              "      <th>Date</th>\n",
              "      <th></th>\n",
              "      <th></th>\n",
              "      <th></th>\n",
              "      <th></th>\n",
              "      <th></th>\n",
              "      <th></th>\n",
              "      <th></th>\n",
              "    </tr>\n",
              "  </thead>\n",
              "  <tbody>\n",
              "    <tr>\n",
              "      <th>2008-03-24 00:00:00+05:30</th>\n",
              "      <td>29.524531</td>\n",
              "      <td>30.773180</td>\n",
              "      <td>28.275879</td>\n",
              "      <td>30.168995</td>\n",
              "      <td>929547</td>\n",
              "      <td>0.0</td>\n",
              "      <td>0.0</td>\n",
              "    </tr>\n",
              "    <tr>\n",
              "      <th>2008-03-25 00:00:00+05:30</th>\n",
              "      <td>30.612070</td>\n",
              "      <td>36.210857</td>\n",
              "      <td>30.007884</td>\n",
              "      <td>34.680252</td>\n",
              "      <td>1921674</td>\n",
              "      <td>0.0</td>\n",
              "      <td>0.0</td>\n",
              "    </tr>\n",
              "    <tr>\n",
              "      <th>2008-03-26 00:00:00+05:30</th>\n",
              "      <td>35.445555</td>\n",
              "      <td>35.928903</td>\n",
              "      <td>33.109370</td>\n",
              "      <td>33.592720</td>\n",
              "      <td>908599</td>\n",
              "      <td>0.0</td>\n",
              "      <td>0.0</td>\n",
              "    </tr>\n",
              "    <tr>\n",
              "      <th>2008-03-27 00:00:00+05:30</th>\n",
              "      <td>33.069100</td>\n",
              "      <td>33.995520</td>\n",
              "      <td>32.626031</td>\n",
              "      <td>33.109379</td>\n",
              "      <td>514967</td>\n",
              "      <td>0.0</td>\n",
              "      <td>0.0</td>\n",
              "    </tr>\n",
              "    <tr>\n",
              "      <th>2008-03-28 00:00:00+05:30</th>\n",
              "      <td>33.028815</td>\n",
              "      <td>34.035792</td>\n",
              "      <td>32.827420</td>\n",
              "      <td>33.834396</td>\n",
              "      <td>438240</td>\n",
              "      <td>0.0</td>\n",
              "      <td>0.0</td>\n",
              "    </tr>\n",
              "  </tbody>\n",
              "</table>\n",
              "</div>\n",
              "      <button class=\"colab-df-convert\" onclick=\"convertToInteractive('df-02456f03-6536-4b94-9e5d-9cd3453aff4a')\"\n",
              "              title=\"Convert this dataframe to an interactive table.\"\n",
              "              style=\"display:none;\">\n",
              "        \n",
              "  <svg xmlns=\"http://www.w3.org/2000/svg\" height=\"24px\"viewBox=\"0 0 24 24\"\n",
              "       width=\"24px\">\n",
              "    <path d=\"M0 0h24v24H0V0z\" fill=\"none\"/>\n",
              "    <path d=\"M18.56 5.44l.94 2.06.94-2.06 2.06-.94-2.06-.94-.94-2.06-.94 2.06-2.06.94zm-11 1L8.5 8.5l.94-2.06 2.06-.94-2.06-.94L8.5 2.5l-.94 2.06-2.06.94zm10 10l.94 2.06.94-2.06 2.06-.94-2.06-.94-.94-2.06-.94 2.06-2.06.94z\"/><path d=\"M17.41 7.96l-1.37-1.37c-.4-.4-.92-.59-1.43-.59-.52 0-1.04.2-1.43.59L10.3 9.45l-7.72 7.72c-.78.78-.78 2.05 0 2.83L4 21.41c.39.39.9.59 1.41.59.51 0 1.02-.2 1.41-.59l7.78-7.78 2.81-2.81c.8-.78.8-2.07 0-2.86zM5.41 20L4 18.59l7.72-7.72 1.47 1.35L5.41 20z\"/>\n",
              "  </svg>\n",
              "      </button>\n",
              "      \n",
              "  <style>\n",
              "    .colab-df-container {\n",
              "      display:flex;\n",
              "      flex-wrap:wrap;\n",
              "      gap: 12px;\n",
              "    }\n",
              "\n",
              "    .colab-df-convert {\n",
              "      background-color: #E8F0FE;\n",
              "      border: none;\n",
              "      border-radius: 50%;\n",
              "      cursor: pointer;\n",
              "      display: none;\n",
              "      fill: #1967D2;\n",
              "      height: 32px;\n",
              "      padding: 0 0 0 0;\n",
              "      width: 32px;\n",
              "    }\n",
              "\n",
              "    .colab-df-convert:hover {\n",
              "      background-color: #E2EBFA;\n",
              "      box-shadow: 0px 1px 2px rgba(60, 64, 67, 0.3), 0px 1px 3px 1px rgba(60, 64, 67, 0.15);\n",
              "      fill: #174EA6;\n",
              "    }\n",
              "\n",
              "    [theme=dark] .colab-df-convert {\n",
              "      background-color: #3B4455;\n",
              "      fill: #D2E3FC;\n",
              "    }\n",
              "\n",
              "    [theme=dark] .colab-df-convert:hover {\n",
              "      background-color: #434B5C;\n",
              "      box-shadow: 0px 1px 3px 1px rgba(0, 0, 0, 0.15);\n",
              "      filter: drop-shadow(0px 1px 2px rgba(0, 0, 0, 0.3));\n",
              "      fill: #FFFFFF;\n",
              "    }\n",
              "  </style>\n",
              "\n",
              "      <script>\n",
              "        const buttonEl =\n",
              "          document.querySelector('#df-02456f03-6536-4b94-9e5d-9cd3453aff4a button.colab-df-convert');\n",
              "        buttonEl.style.display =\n",
              "          google.colab.kernel.accessAllowed ? 'block' : 'none';\n",
              "\n",
              "        async function convertToInteractive(key) {\n",
              "          const element = document.querySelector('#df-02456f03-6536-4b94-9e5d-9cd3453aff4a');\n",
              "          const dataTable =\n",
              "            await google.colab.kernel.invokeFunction('convertToInteractive',\n",
              "                                                     [key], {});\n",
              "          if (!dataTable) return;\n",
              "\n",
              "          const docLinkHtml = 'Like what you see? Visit the ' +\n",
              "            '<a target=\"_blank\" href=https://colab.research.google.com/notebooks/data_table.ipynb>data table notebook</a>'\n",
              "            + ' to learn more about interactive tables.';\n",
              "          element.innerHTML = '';\n",
              "          dataTable['output_type'] = 'display_data';\n",
              "          await google.colab.output.renderOutput(dataTable, element);\n",
              "          const docLink = document.createElement('div');\n",
              "          docLink.innerHTML = docLinkHtml;\n",
              "          element.appendChild(docLink);\n",
              "        }\n",
              "      </script>\n",
              "    </div>\n",
              "  </div>\n",
              "  "
            ]
          },
          "metadata": {},
          "execution_count": 4
        }
      ]
    },
    {
      "cell_type": "code",
      "source": [
        "tcs.columns"
      ],
      "metadata": {
        "colab": {
          "base_uri": "https://localhost:8080/"
        },
        "id": "_HdcIqEpxlXd",
        "outputId": "efa12608-f45c-4466-c239-24f5298cc499"
      },
      "execution_count": null,
      "outputs": [
        {
          "output_type": "execute_result",
          "data": {
            "text/plain": [
              "Index(['Open', 'High', 'Low', 'Close', 'Volume', 'Dividends', 'Stock Splits'], dtype='object')"
            ]
          },
          "metadata": {},
          "execution_count": 5
        }
      ]
    },
    {
      "cell_type": "code",
      "source": [
        "tcs.shape"
      ],
      "metadata": {
        "colab": {
          "base_uri": "https://localhost:8080/"
        },
        "id": "9LPJjqlVyWvH",
        "outputId": "aa059c17-27f1-4db6-c8ba-33f9e0aa7ec0"
      },
      "execution_count": null,
      "outputs": [
        {
          "output_type": "execute_result",
          "data": {
            "text/plain": [
              "(3699, 7)"
            ]
          },
          "metadata": {},
          "execution_count": 6
        }
      ]
    },
    {
      "cell_type": "markdown",
      "source": [
        "**Graphical representaion of TCS closed price for the past 15 years**"
      ],
      "metadata": {
        "id": "ORsDh4Ahi0sw"
      }
    },
    {
      "cell_type": "code",
      "source": [
        "plt.figure(figsize=(16,8))\n",
        "plt.title('Close Price History (in Rs.)')\n",
        "plt.plot(tcs['Close'])\n",
        "plt.xlabel('Date', fontsize=18)\n",
        "plt.ylabel('close price', fontsize=18)\n",
        "plt.show()"
      ],
      "metadata": {
        "colab": {
          "base_uri": "https://localhost:8080/",
          "height": 522
        },
        "id": "87PFM_WWzMaA",
        "outputId": "031de3df-7a69-423f-8f97-609693f14e70"
      },
      "execution_count": null,
      "outputs": [
        {
          "output_type": "display_data",
          "data": {
            "text/plain": [
              "<Figure size 1152x576 with 1 Axes>"
            ],
            "image/png": "[encoded data removed]"
          },
          "metadata": {}
        }
      ]
    },
    {
      "cell_type": "markdown",
      "source": [
        "### **Forecasting analysis using Recurrent Neural Network**"
      ],
      "metadata": {
        "id": "AM_yGAa9q4A-"
      }
    },
    {
      "cell_type": "code",
      "source": [
        "import math\n",
        "new_data = tcs.filter(['Close'])\n",
        "data=new_data.values\n",
        "train_data_length =math.ceil(len(data) * 0.8)\n",
        "train_data_length "
      ],
      "metadata": {
        "colab": {
          "base_uri": "https://localhost:8080/"
        },
        "id": "bOfIugo5Bcw9",
        "outputId": "5b13961e-7b1c-4089-ba95-bddb2bb750e9"
      },
      "execution_count": null,
      "outputs": [
        {
          "output_type": "execute_result",
          "data": {
            "text/plain": [
              "2960"
            ]
          },
          "metadata": {},
          "execution_count": 8
        }
      ]
    },
    {
      "cell_type": "markdown",
      "source": [
        "**Scaling the features**"
      ],
      "metadata": {
        "id": "mrbGYilsq36-"
      }
    },
    {
      "cell_type": "code",
      "source": [
        "scaler = MinMaxScaler(feature_range=(0,1))\n",
        "scaled_data = scaler.fit_transform(data)\n",
        "scaled_data"
      ],
      "metadata": {
        "colab": {
          "base_uri": "https://localhost:8080/"
        },
        "id": "h-CJ3g2LcROK",
        "outputId": "c4ee9ce7-fbdc-41bd-d882-d7b769b9eb6b"
      },
      "execution_count": null,
      "outputs": [
        {
          "output_type": "execute_result",
          "data": {
            "text/plain": [
              "array([[0.05479774],\n",
              "       [0.06863618],\n",
              "       [0.06530014],\n",
              "       ...,\n",
              "       [0.93466157],\n",
              "       [0.92898661],\n",
              "       [0.91625636]])"
            ]
          },
          "metadata": {},
          "execution_count": 9
        }
      ]
    },
    {
      "cell_type": "markdown",
      "source": [
        "**Creating the training dataset and splitting the data into train and test, Creating a dataframe structure with 60 timesteps and 1 output**"
      ],
      "metadata": {
        "id": "qPzuhlFotehR"
      }
    },
    {
      "cell_type": "code",
      "source": [
        "train_data= scaled_data[0:train_data_length,:]\n",
        "x_train=[]\n",
        "y_train=[]\n",
        "\n",
        "for i in range(60, len(train_data)):\n",
        "  x_train.append(train_data[i-60:i,0])\n",
        "  y_train.append(train_data[i,0])\n",
        "  if i<=60:\n",
        "    print(x_train)\n",
        "    print(y_train)\n",
        "    print()"
      ],
      "metadata": {
        "colab": {
          "base_uri": "https://localhost:8080/"
        },
        "id": "shdFVhQItgPX",
        "outputId": "1606b7f0-e9e1-430d-a79e-ed908edac47c"
      },
      "execution_count": null,
      "outputs": [
        {
          "output_type": "stream",
          "name": "stdout",
          "text": [
            "[array([0.05479774, 0.06863618, 0.06530014, 0.06381747, 0.06604149,\n",
            "       0.06431167, 0.06418812, 0.06418812, 0.06097562, 0.06035781,\n",
            "       0.06109919, 0.06307609, 0.06369388, 0.0633232 , 0.06184051,\n",
            "       0.06369388, 0.06950108, 0.0682655 , 0.06987174, 0.07604963,\n",
            "       0.07666737, 0.07296066, 0.07506116, 0.07543181, 0.07481405,\n",
            "       0.07555537, 0.07876788, 0.07839722, 0.07777943, 0.07654385,\n",
            "       0.07703808, 0.06987174, 0.06702993, 0.06727705, 0.06789484,\n",
            "       0.0723429 , 0.07011886, 0.0699953 , 0.07271358, 0.0706131 ,\n",
            "       0.06937751, 0.06665924, 0.06357034, 0.06344676, 0.07011886,\n",
            "       0.06678283, 0.06282899, 0.06048138, 0.05850448, 0.05813377,\n",
            "       0.05615689, 0.05430352, 0.05578621, 0.05689822, 0.05677467,\n",
            "       0.05974006, 0.0589987 , 0.06035781, 0.0589987 , 0.0566511 ])]\n",
            "[0.052820839374818074]\n",
            "\n"
          ]
        }
      ]
    },
    {
      "cell_type": "code",
      "source": [
        "# Coverting x_train and y_train into numpy arrays\n",
        "x_train, y_train=np.array(x_train), np.array(y_train)"
      ],
      "metadata": {
        "id": "h1VnPqW_tsfW"
      },
      "execution_count": null,
      "outputs": []
    },
    {
      "cell_type": "code",
      "source": [
        "# Reshaping the data\n",
        "x_train=np.reshape(x_train, (x_train.shape[0], x_train.shape[1], 1))\n",
        "x_train.shape"
      ],
      "metadata": {
        "colab": {
          "base_uri": "https://localhost:8080/"
        },
        "id": "mQrX7fWXwqRQ",
        "outputId": "3c77ef2d-08cb-45c2-c395-659b7b67c59b"
      },
      "execution_count": null,
      "outputs": [
        {
          "output_type": "execute_result",
          "data": {
            "text/plain": [
              "(2900, 60, 1)"
            ]
          },
          "metadata": {},
          "execution_count": 12
        }
      ]
    },
    {
      "cell_type": "markdown",
      "source": [
        "**Building the LSTM model**"
      ],
      "metadata": {
        "id": "bstrCGM2w4QV"
      }
    },
    {
      "cell_type": "code",
      "source": [
        "# Initialising the RNN\n",
        "model=Sequential()\n",
        "\n",
        "# Adding the first LSTM layer and some Dropout regularisation\n",
        "model.add(LSTM(units = 50, return_sequences = True, input_shape = (x_train.shape[1], 1)))\n",
        "model.add(Dropout(0.2))\n",
        "\n",
        "\n",
        "# Adding the second LSTM layer and some Dropout regularisation\n",
        "model.add(LSTM(units = 50, return_sequences = True))\n",
        "model.add(Dropout(0.2))\n",
        "\n",
        "\n",
        "# Adding the third LSTM layer and some Dropout regularisation\n",
        "model.add(LSTM(units = 50, return_sequences = True))\n",
        "model.add(Dropout(0.2))\n",
        "\n",
        "\n",
        "# Adding the fourth LSTM layer and some Dropout regularisation\n",
        "model.add(LSTM(units = 50))\n",
        "model.add(Dropout(0.2))\n",
        "\n",
        "# Adding the output layer\n",
        "model.add(Dense(units=1))"
      ],
      "metadata": {
        "id": "CzKe_j1awziP"
      },
      "execution_count": null,
      "outputs": []
    },
    {
      "cell_type": "markdown",
      "source": [
        "**Compiling the model**"
      ],
      "metadata": {
        "id": "CnbKk29Ny-FP"
      }
    },
    {
      "cell_type": "code",
      "source": [
        "model.compile(optimizer = 'adam', loss = 'mean_squared_error')"
      ],
      "metadata": {
        "id": "_Pt_erPCzBqC"
      },
      "execution_count": null,
      "outputs": []
    },
    {
      "cell_type": "markdown",
      "source": [
        "**Fitting the model to the training set**"
      ],
      "metadata": {
        "id": "hyuNnOtzzKN9"
      }
    },
    {
      "cell_type": "code",
      "source": [
        "model.fit(x_train, y_train, batch_size=1, epochs=1)"
      ],
      "metadata": {
        "colab": {
          "base_uri": "https://localhost:8080/"
        },
        "id": "P9mBB8ZuzUxc",
        "outputId": "79ddc386-6c4f-49b8-d2db-7a4516210e14"
      },
      "execution_count": null,
      "outputs": [
        {
          "output_type": "stream",
          "name": "stdout",
          "text": [
            "2900/2900 [==============================] - 209s 68ms/step - loss: 0.0037\n"
          ]
        },
        {
          "output_type": "execute_result",
          "data": {
            "text/plain": [
              "<keras.callbacks.History at 0x7f5fb53dd610>"
            ]
          },
          "metadata": {},
          "execution_count": 15
        }
      ]
    },
    {
      "cell_type": "markdown",
      "source": [
        "**Creating test data set**"
      ],
      "metadata": {
        "id": "QxiP06JiM3bq"
      }
    },
    {
      "cell_type": "code",
      "source": [
        "test_data = scaled_data[train_data_length -60:, :]\n",
        "x_test = []\n",
        "y_test = data[train_data_length:, :]\n",
        "for i in range(60, len(test_data)):\n",
        "  x_test.append(test_data[i-60:i, 0])"
      ],
      "metadata": {
        "id": "WpzrSphOMzKJ"
      },
      "execution_count": null,
      "outputs": []
    },
    {
      "cell_type": "code",
      "source": [
        "# Coverting x_test and y_test into numpy arrays\n",
        "x_test=np.array(x_test)"
      ],
      "metadata": {
        "id": "yD_QsesFOnRN"
      },
      "execution_count": null,
      "outputs": []
    },
    {
      "cell_type": "code",
      "source": [
        "# Reshaping the data\n",
        "x_test=np.reshape(x_test, (x_test.shape[0], x_test.shape[1], 1))\n",
        "x_test.shape"
      ],
      "metadata": {
        "colab": {
          "base_uri": "https://localhost:8080/"
        },
        "id": "KVeLOpauO1Nc",
        "outputId": "eec5bd3f-2be9-4487-cbd3-c77f9d63e8c9"
      },
      "execution_count": null,
      "outputs": [
        {
          "output_type": "execute_result",
          "data": {
            "text/plain": [
              "(739, 60, 1)"
            ]
          },
          "metadata": {},
          "execution_count": 18
        }
      ]
    },
    {
      "cell_type": "markdown",
      "source": [
        "**Getting the model's predicted price values**"
      ],
      "metadata": {
        "id": "cLY6r7LhPEMO"
      }
    },
    {
      "cell_type": "code",
      "source": [
        "predictions = model.predict(x_test)\n",
        "\n",
        "# Unscaling the values\n",
        "predictions = scaler.inverse_transform(predictions)\n"
      ],
      "metadata": {
        "colab": {
          "base_uri": "https://localhost:8080/"
        },
        "id": "8eoRY1hxO-pQ",
        "outputId": "087fe03d-4467-4d32-ccca-fa2a85ce026c"
      },
      "execution_count": null,
      "outputs": [
        {
          "output_type": "stream",
          "name": "stdout",
          "text": [
            "24/24 [==============================] - 2s 35ms/step\n"
          ]
        }
      ]
    },
    {
      "cell_type": "markdown",
      "source": [
        "**Evaluating the model**"
      ],
      "metadata": {
        "id": "NGtzsYQ3PmyO"
      }
    },
    {
      "cell_type": "code",
      "source": [
        "# Using Root mean squared error (RMSE)\n",
        "rmse = np.sqrt( np.mean(predictions - y_test)**2)\n",
        "rmse"
      ],
      "metadata": {
        "colab": {
          "base_uri": "https://localhost:8080/"
        },
        "id": "CzPVxEI9PjMf",
        "outputId": "79f08eec-eae6-4a22-a5a7-7f17f6358678"
      },
      "execution_count": null,
      "outputs": [
        {
          "output_type": "execute_result",
          "data": {
            "text/plain": [
              "11.048850930592042"
            ]
          },
          "metadata": {},
          "execution_count": 20
        }
      ]
    },
    {
      "cell_type": "code",
      "source": [
        "predictions"
      ],
      "metadata": {
        "id": "awhX6e26c83X"
      },
      "execution_count": null,
      "outputs": []
    },
    {
      "cell_type": "markdown",
      "source": [
        "**Plotting and visualization of the results**"
      ],
      "metadata": {
        "id": "RK2jEksGQUVp"
      }
    },
    {
      "cell_type": "code",
      "source": [
        "# Plotting the data\n",
        "train = tcs[:train_data_length]\n",
        "valid = tcs[train_data_length:]\n",
        "valid ['Predictions'] = predictions\n",
        "\n",
        "# Visualizing the data\n",
        "plt.figure(figsize=(16,8))\n",
        "plt.title('Model')\n",
        "plt.xlabel('Date', fontsize=18)\n",
        "plt.ylabel('close price (in Rs.)', fontsize=18)\n",
        "plt.plot(train['Close'])\n",
        "plt.plot(valid[['Close','Predictions']])\n",
        "plt.legend(['Train','Val','Predictions'],loc='lower right')\n",
        "plt.show()"
      ],
      "metadata": {
        "colab": {
          "base_uri": "https://localhost:8080/",
          "height": 626
        },
        "id": "Q-KEfkzeP5cb",
        "outputId": "e7337160-8fd7-4939-8d73-b01aa8bcc0dd"
      },
      "execution_count": null,
      "outputs": [
        {
          "output_type": "stream",
          "name": "stderr",
          "text": [
            "<ipython-input-22-87658d4503f4>:4: SettingWithCopyWarning: \n",
            "A value is trying to be set on a copy of a slice from a DataFrame.\n",
            "Try using .loc[row_indexer,col_indexer] = value instead\n",
            "\n",
            "See the caveats in the documentation: https://pandas.pydata.org/pandas-docs/stable/user_guide/indexing.html#returning-a-view-versus-a-copy\n",
            "  valid ['Predictions'] = predictions\n"
          ]
        },
        {
          "output_type": "display_data",
          "data": {
            "text/plain": [
              "<Figure size 1152x576 with 1 Axes>"
            ],
            "image/png": "[encoded data removed]"
          },
          "metadata": {}
        }
      ]
    },
    {
      "cell_type": "markdown",
      "source": [
        "**Red line(Train) - represents the data on which model was trained on.**"
      ],
      "metadata": {
        "id": "LfOXerXrdJjj"
      }
    },
    {
      "cell_type": "markdown",
      "source": [
        "**Blue line(Val) - represents the actual values for the rest of the days(actual closing stock price for tcs for the rest of the days)**"
      ],
      "metadata": {
        "id": "hqvlE365eIcz"
      }
    },
    {
      "cell_type": "markdown",
      "source": [
        "**Purple line(Predictions) -  represents our model predictions**"
      ],
      "metadata": {
        "id": "mxuiP3DyeLI2"
      }
    },
    {
      "cell_type": "markdown",
      "source": [
        "### Ending notes - As we can see that our model performed pretty decent. It gave good predictions given that we know the uncertainity of stock market."
      ],
      "metadata": {
        "id": "21cmlFXWeNZc"
      }
    }
  ]
}